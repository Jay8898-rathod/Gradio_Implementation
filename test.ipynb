{
 "cells": [
  {
   "cell_type": "code",
   "execution_count": 1,
   "metadata": {},
   "outputs": [
    {
     "name": "stderr",
     "output_type": "stream",
     "text": [
      "c:\\Users\\Jay Rathod\\Desktop\\New Projects\\Gradio\\gradio\\lib\\site-packages\\tqdm\\auto.py:21: TqdmWarning: IProgress not found. Please update jupyter and ipywidgets. See https://ipywidgets.readthedocs.io/en/stable/user_install.html\n",
      "  from .autonotebook import tqdm as notebook_tqdm\n"
     ]
    }
   ],
   "source": [
    "import gradio as gr"
   ]
  },
  {
   "cell_type": "code",
   "execution_count": 2,
   "metadata": {},
   "outputs": [],
   "source": [
    "def greet(name):\n",
    "    print(\"Hello...\" + name + \"!!\")"
   ]
  },
  {
   "cell_type": "code",
   "execution_count": 3,
   "metadata": {},
   "outputs": [
    {
     "name": "stdout",
     "output_type": "stream",
     "text": [
      "Running on local URL:  http://127.0.0.1:7860\n",
      "\n",
      "Could not create share link. Please check your internet connection or our status page: https://status.gradio.app.\n"
     ]
    },
    {
     "data": {
      "text/html": [
       "<div><iframe src=\"http://127.0.0.1:7860/\" width=\"100%\" height=\"500\" allow=\"autoplay; camera; microphone; clipboard-read; clipboard-write;\" frameborder=\"0\" allowfullscreen></iframe></div>"
      ],
      "text/plain": [
       "<IPython.core.display.HTML object>"
      ]
     },
     "metadata": {},
     "output_type": "display_data"
    },
    {
     "data": {
      "text/plain": []
     },
     "execution_count": 3,
     "metadata": {},
     "output_type": "execute_result"
    },
    {
     "name": "stdout",
     "output_type": "stream",
     "text": [
      "Hello...Python!!\n"
     ]
    }
   ],
   "source": [
    "interface = gr.Interface(fn=greet, inputs='text', outputs='text')\n",
    "interface.launch(share=True)"
   ]
  },
  {
   "cell_type": "markdown",
   "metadata": {},
   "source": [
    "# Customization: Bigger text box"
   ]
  },
  {
   "cell_type": "code",
   "execution_count": 7,
   "metadata": {},
   "outputs": [
    {
     "name": "stdout",
     "output_type": "stream",
     "text": [
      "Running on local URL:  http://127.0.0.1:7861\n",
      "\n",
      "To create a public link, set `share=True` in `launch()`.\n"
     ]
    },
    {
     "data": {
      "text/html": [
       "<div><iframe src=\"http://127.0.0.1:7861/\" width=\"100%\" height=\"500\" allow=\"autoplay; camera; microphone; clipboard-read; clipboard-write;\" frameborder=\"0\" allowfullscreen></iframe></div>"
      ],
      "text/plain": [
       "<IPython.core.display.HTML object>"
      ]
     },
     "metadata": {},
     "output_type": "display_data"
    },
    {
     "data": {
      "text/plain": []
     },
     "execution_count": 7,
     "metadata": {},
     "output_type": "execute_result"
    },
    {
     "name": "stdout",
     "output_type": "stream",
     "text": [
      "Hello...hjofjacanlkvksmvjanfvnslfnbnlmzsv\n",
      "vjbgavjngk\n",
      "vksbivha!!\n",
      "Hello...hjofjacanlkvksmvjanfvnslfnbnlmzsv\n",
      "vjbgavjngk\n",
      "vksbivha!!\n",
      "Hello...hjofjacanlkvksmvjanfvnslfnbnlmzsv\n",
      "vjbgavjngk\n",
      "vksbivha!!\n"
     ]
    }
   ],
   "source": [
    "# interface = gr.Interface(outputs='text', fn=greet, inputs=gr.inputs.Textbox(lines=3, placeholder=\"Enter the input...\"))\n",
    "# interface.launch()\n",
    "\n",
    "\n",
    "import gradio as gr\n",
    "\n",
    "# Define the input component (Textbox)\n",
    "textbox = gr.Textbox(lines=3, placeholder=\"Enter the input...\")\n",
    "\n",
    "# Define the interface with components and outputs\n",
    "interface = gr.Interface(fn=greet, inputs=textbox, outputs=\"text\")\n",
    "\n",
    "# Launch the interface\n",
    "interface.launch()"
   ]
  },
  {
   "cell_type": "markdown",
   "metadata": {},
   "source": [
    "# Image"
   ]
  },
  {
   "cell_type": "code",
   "execution_count": 10,
   "metadata": {},
   "outputs": [
    {
     "name": "stdout",
     "output_type": "stream",
     "text": [
      "Running on local URL:  http://127.0.0.1:7862\n",
      "\n",
      "To create a public link, set `share=True` in `launch()`.\n"
     ]
    },
    {
     "data": {
      "text/html": [
       "<div><iframe src=\"http://127.0.0.1:7862/\" width=\"100%\" height=\"500\" allow=\"autoplay; camera; microphone; clipboard-read; clipboard-write;\" frameborder=\"0\" allowfullscreen></iframe></div>"
      ],
      "text/plain": [
       "<IPython.core.display.HTML object>"
      ]
     },
     "metadata": {},
     "output_type": "display_data"
    },
    {
     "data": {
      "text/plain": []
     },
     "execution_count": 10,
     "metadata": {},
     "output_type": "execute_result"
    }
   ],
   "source": [
    "# import gradio as gr\n",
    "# import numpy as np\n",
    "\n",
    "# def sepia(input_img):\n",
    "#     sepia_filter = np.array([[.393, .769, .189],\n",
    "#                              [.349, .686, .168],\n",
    "#                              [.272, .534, .131]])\n",
    "#     sepia_img = input_img.dot(sepia_filter.T)\n",
    "#     sepia_img /= sepia_img.max()\n",
    "#     return sepia_img\n",
    "\n",
    "# iface = gr.Interface(fn = sepia, gr.inputs.Image(shape=(200,200)), \"image\").launch()\n",
    "\n",
    "\n",
    "\n",
    "import numpy as np\n",
    "import gradio as gr\n",
    "\n",
    "def sepia(input_img):\n",
    "  sepia_filter = np.array([[.393, .769, .189],\n",
    "                          [.349, .686, .168],\n",
    "                          [.272, .534, .131]])\n",
    "  sepia_img = input_img.dot(sepia_filter.T)\n",
    "  sepia_img /= sepia_img.max()\n",
    "  return sepia_img\n",
    "\n",
    "# Define the input component (Image) using `gr.components`\n",
    "image_input = gr.components.Image()\n",
    "\n",
    "# Create the interface with components and outputs\n",
    "interface = gr.Interface(fn=sepia, inputs=image_input, outputs=\"image\")\n",
    "\n",
    "# Launch the interface\n",
    "interface.launch()"
   ]
  },
  {
   "cell_type": "code",
   "execution_count": 11,
   "metadata": {},
   "outputs": [
    {
     "name": "stdout",
     "output_type": "stream",
     "text": [
      "Running on local URL:  http://127.0.0.1:7863\n",
      "\n",
      "To create a public link, set `share=True` in `launch()`.\n"
     ]
    },
    {
     "data": {
      "text/html": [
       "<div><iframe src=\"http://127.0.0.1:7863/\" width=\"100%\" height=\"500\" allow=\"autoplay; camera; microphone; clipboard-read; clipboard-write;\" frameborder=\"0\" allowfullscreen></iframe></div>"
      ],
      "text/plain": [
       "<IPython.core.display.HTML object>"
      ]
     },
     "metadata": {},
     "output_type": "display_data"
    },
    {
     "data": {
      "text/plain": []
     },
     "execution_count": 11,
     "metadata": {},
     "output_type": "execute_result"
    }
   ],
   "source": [
    "import gradio as gr\n",
    "#from foo import BAR\n",
    "#\n",
    "def calculator(num1, operation, num2):\n",
    "    if operation == \"add\":\n",
    "        return num1 + num2\n",
    "    elif operation == \"subtract\":\n",
    "        return num1 - num2\n",
    "    elif operation == \"multiply\":\n",
    "        return num1 * num2\n",
    "    elif operation == \"divide\":\n",
    "        if num2 == 0:\n",
    "            raise gr.Error(\"Cannot divide by zero!\")\n",
    "        return num1 / num2\n",
    "\n",
    "demo = gr.Interface(\n",
    "    calculator,\n",
    "    [\n",
    "        \"number\", \n",
    "        gr.Radio([\"add\", \"subtract\", \"multiply\", \"divide\"]),\n",
    "        \"number\"\n",
    "    ],\n",
    "    \"number\",\n",
    "    examples=[\n",
    "        [45, \"add\", 3],\n",
    "        [3.14, \"divide\", 2],\n",
    "        [144, \"multiply\", 2.5],\n",
    "        [0, \"subtract\", 1.2],\n",
    "    ],\n",
    "    title=\"Toy Calculator\",\n",
    "    description=\"Here's a sample toy calculator. Allows you to calculate things like $2+2=4$\",\n",
    ")\n",
    "\n",
    "demo.launch()"
   ]
  },
  {
   "cell_type": "markdown",
   "metadata": {},
   "source": [
    "# Multiple Inputs"
   ]
  },
  {
   "cell_type": "code",
   "execution_count": 22,
   "metadata": {},
   "outputs": [
    {
     "name": "stderr",
     "output_type": "stream",
     "text": [
      "c:\\Users\\Jay Rathod\\Desktop\\New Projects\\Gradio\\gradio\\lib\\site-packages\\gradio\\blocks.py:626: UserWarning: Cannot load huggingface. Caught Exception: 404 Client Error: Not Found for url: https://huggingface.co/api/spaces/huggingface (Request ID: Root=1-661b9a08-35132ff72b1f39fd5a147a50;3eb22d2f-580f-47d8-a4a6-1e0748913b56)\n",
      "\n",
      "Sorry, we can't find the page you are looking for.\n",
      "  warnings.warn(f\"Cannot load {theme}. Caught Exception: {str(e)}\")\n"
     ]
    },
    {
     "name": "stdout",
     "output_type": "stream",
     "text": [
      "Running on local URL:  http://127.0.0.1:7870\n",
      "\n",
      "To create a public link, set `share=True` in `launch()`.\n"
     ]
    },
    {
     "data": {
      "text/html": [
       "<div><iframe src=\"http://127.0.0.1:7870/\" width=\"100%\" height=\"500\" allow=\"autoplay; camera; microphone; clipboard-read; clipboard-write;\" frameborder=\"0\" allowfullscreen></iframe></div>"
      ],
      "text/plain": [
       "<IPython.core.display.HTML object>"
      ]
     },
     "metadata": {},
     "output_type": "display_data"
    },
    {
     "data": {
      "text/plain": []
     },
     "execution_count": 22,
     "metadata": {},
     "output_type": "execute_result"
    }
   ],
   "source": [
    "import gradio as gr\n",
    "\n",
    "def bmi(name, height, weight):\n",
    "  bmi = weight / (height ** 2)\n",
    "  return f\"Hello {name}... \\n Your BMI is {bmi:.2f}\"  # formatted output\n",
    "\n",
    "# Define input components using `gr.components`\n",
    "text_input = gr.Textbox(label=\"Name\")\n",
    "height_slider = gr.Slider(minimum=1, maximum=100, label=\"Height (cm)\")\n",
    "weight_slider = gr.Slider(minimum=1, maximum=100, label=\"Weight (kg)\")\n",
    "\n",
    "# Create the interface with components and outputs\n",
    "interface = gr.Interface(fn=bmi, inputs=[text_input, height_slider, weight_slider], outputs=\"text\",theme=\"huggingface\")\n",
    "\n",
    "# Launch the interface\n",
    "interface.launch()"
   ]
  },
  {
   "cell_type": "markdown",
   "metadata": {},
   "source": [
    "# Chatbot example"
   ]
  },
  {
   "cell_type": "code",
   "execution_count": 17,
   "metadata": {},
   "outputs": [
    {
     "name": "stdout",
     "output_type": "stream",
     "text": [
      "Running on local URL:  http://127.0.0.1:7865\n",
      "\n",
      "To create a public link, set `share=True` in `launch()`.\n"
     ]
    },
    {
     "data": {
      "text/html": [
       "<div><iframe src=\"http://127.0.0.1:7865/\" width=\"100%\" height=\"500\" allow=\"autoplay; camera; microphone; clipboard-read; clipboard-write;\" frameborder=\"0\" allowfullscreen></iframe></div>"
      ],
      "text/plain": [
       "<IPython.core.display.HTML object>"
      ]
     },
     "metadata": {},
     "output_type": "display_data"
    },
    {
     "data": {
      "text/plain": []
     },
     "execution_count": 17,
     "metadata": {},
     "output_type": "execute_result"
    }
   ],
   "source": [
    "import random\n",
    "\n",
    "def random_response(message, history):\n",
    "    return random.choice([\"Yes\", \"No\"])\n",
    "# Now, we can plug this into gr.ChatInterface() and call the .launch() method to create the web interface:\n",
    "\n",
    "\n",
    "import gradio as gr\n",
    "\n",
    "gr.ChatInterface(random_response).launch()"
   ]
  },
  {
   "cell_type": "markdown",
   "metadata": {},
   "source": [
    "# Aunthetication with gradio application"
   ]
  },
  {
   "cell_type": "code",
   "execution_count": 24,
   "metadata": {},
   "outputs": [
    {
     "name": "stderr",
     "output_type": "stream",
     "text": [
      "c:\\Users\\Jay Rathod\\Desktop\\New Projects\\Gradio\\gradio\\lib\\site-packages\\gradio\\blocks.py:626: UserWarning: Cannot load huggingface. Caught Exception: 404 Client Error: Not Found for url: https://huggingface.co/api/spaces/huggingface (Request ID: Root=1-661b9b4c-27f25fd23e16e723401f6ce5;27c98eac-78f7-47fa-807f-9407425481f0)\n",
      "\n",
      "Sorry, we can't find the page you are looking for.\n",
      "  warnings.warn(f\"Cannot load {theme}. Caught Exception: {str(e)}\")\n"
     ]
    },
    {
     "name": "stdout",
     "output_type": "stream",
     "text": [
      "Running on local URL:  http://127.0.0.1:7872\n",
      "\n",
      "To create a public link, set `share=True` in `launch()`.\n"
     ]
    },
    {
     "data": {
      "text/html": [
       "<div><iframe src=\"http://127.0.0.1:7872/\" width=\"100%\" height=\"500\" allow=\"autoplay; camera; microphone; clipboard-read; clipboard-write;\" frameborder=\"0\" allowfullscreen></iframe></div>"
      ],
      "text/plain": [
       "<IPython.core.display.HTML object>"
      ]
     },
     "metadata": {},
     "output_type": "display_data"
    },
    {
     "data": {
      "text/plain": []
     },
     "execution_count": 24,
     "metadata": {},
     "output_type": "execute_result"
    }
   ],
   "source": [
    "import gradio as gr\n",
    "\n",
    "def bmi(name, height, weight):\n",
    "  bmi = weight / (height ** 2)\n",
    "  return f\"Hello {name}... \\n Your BMI is {bmi:.2f}\"  # formatted output\n",
    "\n",
    "# Define input components using `gr.components`\n",
    "text_input = gr.Textbox(label=\"Name\")\n",
    "height_slider = gr.Slider(minimum=1, maximum=100, label=\"Height (cm)\")\n",
    "weight_slider = gr.Slider(minimum=1, maximum=100, label=\"Weight (kg)\")\n",
    "\n",
    "# Create the interface with components and outputs\n",
    "interface = gr.Interface(fn=bmi, inputs=[text_input, height_slider, weight_slider], outputs=\"text\",theme=\"huggingface\")\n",
    "\n",
    "# Launch the interface\n",
    "interface.launch(auth=('user','1234'))"
   ]
  },
  {
   "cell_type": "code",
   "execution_count": 25,
   "metadata": {},
   "outputs": [
    {
     "name": "stderr",
     "output_type": "stream",
     "text": [
      "c:\\Users\\Jay Rathod\\Desktop\\New Projects\\Gradio\\gradio\\lib\\site-packages\\gradio\\blocks.py:626: UserWarning: Cannot load huggingface. Caught Exception: 404 Client Error: Not Found for url: https://huggingface.co/api/spaces/huggingface (Request ID: Root=1-661b9bb8-202411d4362ed25379242c9b;1bc3175e-1def-4458-8066-74bc7ab43b0e)\n",
      "\n",
      "Sorry, we can't find the page you are looking for.\n",
      "  warnings.warn(f\"Cannot load {theme}. Caught Exception: {str(e)}\")\n"
     ]
    },
    {
     "name": "stdout",
     "output_type": "stream",
     "text": [
      "Running on local URL:  http://127.0.0.1:7873\n",
      "\n",
      "To create a public link, set `share=True` in `launch()`.\n"
     ]
    },
    {
     "data": {
      "text/html": [
       "<div><iframe src=\"http://127.0.0.1:7873/\" width=\"100%\" height=\"500\" allow=\"autoplay; camera; microphone; clipboard-read; clipboard-write;\" frameborder=\"0\" allowfullscreen></iframe></div>"
      ],
      "text/plain": [
       "<IPython.core.display.HTML object>"
      ]
     },
     "metadata": {},
     "output_type": "display_data"
    },
    {
     "data": {
      "text/plain": []
     },
     "execution_count": 25,
     "metadata": {},
     "output_type": "execute_result"
    }
   ],
   "source": [
    "import gradio as gr\n",
    "\n",
    "def bmi(name, height, weight):\n",
    "  bmi = weight / (height ** 2)\n",
    "  return f\"Hello {name}... \\n Your BMI is {bmi:.2f}\"  # formatted output\n",
    "\n",
    "# Define input components using `gr.components`\n",
    "text_input = gr.Textbox(label=\"Name\")\n",
    "height_slider = gr.Slider(minimum=1, maximum=100, label=\"Height (cm)\")\n",
    "weight_slider = gr.Slider(minimum=1, maximum=100, label=\"Weight (kg)\")\n",
    "\n",
    "# Create the interface with components and outputs\n",
    "interface = gr.Interface(fn=bmi, inputs=[text_input, height_slider, weight_slider], outputs=\"text\",theme=\"huggingface\")\n",
    "\n",
    "# Launch the interface\n",
    "interface.launch(auth = ('user','1234'), auth_message=\"Check your email id that you have provided to us...\")"
   ]
  },
  {
   "cell_type": "code",
   "execution_count": null,
   "metadata": {},
   "outputs": [],
   "source": []
  }
 ],
 "metadata": {
  "kernelspec": {
   "display_name": "gradio",
   "language": "python",
   "name": "python3"
  },
  "language_info": {
   "codemirror_mode": {
    "name": "ipython",
    "version": 3
   },
   "file_extension": ".py",
   "mimetype": "text/x-python",
   "name": "python",
   "nbconvert_exporter": "python",
   "pygments_lexer": "ipython3",
   "version": "3.9.13"
  }
 },
 "nbformat": 4,
 "nbformat_minor": 2
}
